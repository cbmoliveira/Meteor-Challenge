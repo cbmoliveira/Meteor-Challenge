{
  "nbformat": 4,
  "nbformat_minor": 0,
  "metadata": {
    "colab": {
      "name": "CassiaOliveiraMeteor.ipynb",
      "provenance": [],
      "collapsed_sections": [],
      "include_colab_link": true
    },
    "kernelspec": {
      "display_name": "Python 3",
      "name": "python3"
    }
  },
  "cells": [
    {
      "cell_type": "markdown",
      "metadata": {
        "id": "view-in-github",
        "colab_type": "text"
      },
      "source": [
        "<a href=\"https://colab.research.google.com/github/cbmoliveira/Meteor-Challenge/blob/main/CassiaOliveiraMeteor.ipynb\" target=\"_parent\"><img src=\"https://colab.research.google.com/assets/colab-badge.svg\" alt=\"Open In Colab\"/></a>"
      ]
    },
    {
      "cell_type": "markdown",
      "metadata": {
        "id": "3pg_PJnPdB-6"
      },
      "source": [
        "## **METEOR CHALLENGE**\n",
        "\n",
        "*Objetivo 1*: Contar o número de estrelas\n",
        "\n",
        "Ref. Pixel: pure white (255,255,255)\n",
        "\n",
        "Pacotes utilizados: openCV, skimage e numpy."
      ]
    },
    {
      "cell_type": "code",
      "metadata": {
        "id": "R09GEEFl4KNn"
      },
      "source": [
        "import cv2 #OpenCv, resolve problemas visuais computacionais\n",
        "from skimage.io import imread, imshow #Lê e escreve imagens em vários formatos\n",
        "import numpy as np #Cálculo em arrays multidimensionais\n",
        "from google.colab.patches import cv2_imshow #Alternativa ao cv.imshow \n",
        "import matplotlib.pyplot as plt #Criar gráficos\n",
        "from skimage.feature import blob_dog, blob_log, blob_doh #Detecção de áreas"
      ],
      "execution_count": null,
      "outputs": []
    },
    {
      "cell_type": "code",
      "metadata": {
        "colab": {
          "base_uri": "https://localhost:8080/"
        },
        "id": "g7L-XoLSgxff",
        "outputId": "914f2072-5a10-4516-c0bc-988d0345fc41"
      },
      "source": [
        "from google.colab import drive\n",
        "drive.mount('/content/drive')"
      ],
      "execution_count": null,
      "outputs": [
        {
          "output_type": "stream",
          "text": [
            "Mounted at /content/drive\n"
          ],
          "name": "stdout"
        }
      ]
    },
    {
      "cell_type": "code",
      "metadata": {
        "id": "0ysQJNEgEy0s"
      },
      "source": [
        "#Carrega a imagem\n",
        "image = cv2.imread('/content/drive/MyDrive/Meteor/meteor_challenge_01.png', cv2.IMREAD_UNCHANGED)\n",
        "#A imagem está originalmente em BGRA, é necessário transformá-la para RGB para a correta segmentação\n",
        "img = cv2.cvtColor(image, cv2.COLOR_BGRA2RGB)"
      ],
      "execution_count": null,
      "outputs": []
    },
    {
      "cell_type": "markdown",
      "metadata": {
        "id": "Wpo4zTWxelbe"
      },
      "source": [
        "Aqui será criada a máscara com todas as estrelas, que serão segmentadas a partir da cor branca (255,255, 255)."
      ]
    },
    {
      "cell_type": "code",
      "metadata": {
        "id": "FKsRSUFH4RPW",
        "colab": {
          "base_uri": "https://localhost:8080/",
          "height": 721
        },
        "outputId": "b51dc076-0110-4770-9f8f-9869a232b742"
      },
      "source": [
        "lower = np.array([255,255,255]) #valor mínimo\n",
        "upper = np.array([255,255,255]) #valor máximo\n",
        "\n",
        "#Máscara criada de acordo com a cor escolhida\n",
        "mask = cv2.inRange(img, lower, upper) \n",
        "\n",
        "#Saída com a máscara criada\n",
        "cv2_imshow(mask)\n"
      ],
      "execution_count": null,
      "outputs": [
        {
          "output_type": "display_data",
          "data": {
            "image/png": "[encoded data removed]",
            "text/plain": [
              "<PIL.Image.Image image mode=L size=704x704 at 0x7FD995946FD0>"
            ]
          },
          "metadata": {
            "tags": []
          }
        }
      ]
    },
    {
      "cell_type": "markdown",
      "metadata": {
        "id": "UpzEPbihhXC5"
      },
      "source": [
        "Marcação das estrelas utilizando o método de Laplacian."
      ]
    },
    {
      "cell_type": "code",
      "metadata": {
        "colab": {
          "base_uri": "https://localhost:8080/",
          "height": 269
        },
        "id": "YF4wUBfqTZ2R",
        "outputId": "082d5c2d-9415-4ede-9bbc-893b265bfa0a"
      },
      "source": [
        "#Dectecta áreas usando o método Gaussiano de Laplacian\n",
        "blobs = blob_log(mask, max_sigma=10, min_sigma = 1, threshold=0.1) \n",
        "\n",
        "#Saída da imagem num gráfico, com todas as estrelas dectectadas\n",
        "fig, ax = plt.subplots(1,1)\n",
        "ax.imshow(mask, cmap='gray')\n",
        "for blob in blobs:\n",
        "    y, x, area = blob\n",
        "    ax.add_patch(plt.Circle((x, y), area*np.sqrt(2), color='b', \n",
        "                            fill=False))"
      ],
      "execution_count": null,
      "outputs": [
        {
          "output_type": "display_data",
          "data": {
            "image/png": "[encoded data removed]",
            "text/plain": [
              "<Figure size 432x288 with 1 Axes>"
            ]
          },
          "metadata": {
            "tags": [],
            "needs_background": "light"
          }
        }
      ]
    },
    {
      "cell_type": "markdown",
      "metadata": {
        "id": "KlVrFdiAleu3"
      },
      "source": [
        "Contagem das estrelas"
      ]
    },
    {
      "cell_type": "code",
      "metadata": {
        "colab": {
          "base_uri": "https://localhost:8080/"
        },
        "id": "stiBl3SvDclg",
        "outputId": "38825ac7-a946-4117-e5d4-077666a42dff"
      },
      "source": [
        "len(blobs)"
      ],
      "execution_count": null,
      "outputs": [
        {
          "output_type": "execute_result",
          "data": {
            "text/plain": [
              "314"
            ]
          },
          "metadata": {
            "tags": []
          },
          "execution_count": 6
        }
      ]
    },
    {
      "cell_type": "markdown",
      "metadata": {
        "id": "QKhsTEx1n4aS"
      },
      "source": [
        "*Objetivo 2*: Contar o número de meteoros\n",
        "\n",
        "Ref. Pixel: pure red (255, 0, 0)\n"
      ]
    },
    {
      "cell_type": "markdown",
      "metadata": {
        "id": "qFCRVWQfl1q_"
      },
      "source": [
        "Aqui será criada a máscara com todos meteoros, que serão segmentados a partir da cor vermelha (255,0,0)."
      ]
    },
    {
      "cell_type": "code",
      "metadata": {
        "id": "EmOQJN_D82lH",
        "colab": {
          "base_uri": "https://localhost:8080/",
          "height": 721
        },
        "outputId": "cf5575f3-b465-48e5-8dee-fdbf1646b047"
      },
      "source": [
        "lowerred = np.array([255,0,0])#valor mínimo\n",
        "upperred = np.array([255,0,0])#valor máximo\n",
        "\n",
        "#Máscara criada de acordo com a cor escolhida\n",
        "mask2 = cv2.inRange(img, lowerred, upperred)\n",
        "\n",
        "#Saída com a máscara criada\n",
        "cv2_imshow(mask2)\n"
      ],
      "execution_count": null,
      "outputs": [
        {
          "output_type": "display_data",
          "data": {
            "image/png": "[encoded data removed]",
            "text/plain": [
              "<PIL.Image.Image image mode=L size=704x704 at 0x7FD99530D190>"
            ]
          },
          "metadata": {
            "tags": []
          }
        }
      ]
    },
    {
      "cell_type": "markdown",
      "metadata": {
        "id": "Fim9TJomnQGq"
      },
      "source": [
        "Marcação dos meteoros utilizando o método de Laplacian."
      ]
    },
    {
      "cell_type": "code",
      "metadata": {
        "colab": {
          "base_uri": "https://localhost:8080/",
          "height": 269
        },
        "id": "kgKfa35-GK_Q",
        "outputId": "72dafece-b819-4b8b-b691-0049dcf08e01"
      },
      "source": [
        "#Dectecta áreas usando o método Gaussiano de Laplacian\n",
        "blobs2 = blob_log(mask2, max_sigma=10, min_sigma = 1, threshold=0.1)\n",
        "\n",
        "#Saída da imagem num gráfico, com todos os meteoros dectectados\n",
        "fig, ax = plt.subplots(1,1)\n",
        "ax.imshow(mask2, cmap='gray')\n",
        "for blob in blobs2:\n",
        "    y, x, area = blob\n",
        "    ax.add_patch(plt.Circle((x, y), area*np.sqrt(2), color='r', \n",
        "                            fill=False))"
      ],
      "execution_count": null,
      "outputs": [
        {
          "output_type": "display_data",
          "data": {
            "image/png": "[encoded data removed]",
            "text/plain": [
              "<Figure size 432x288 with 1 Axes>"
            ]
          },
          "metadata": {
            "tags": [],
            "needs_background": "light"
          }
        }
      ]
    },
    {
      "cell_type": "markdown",
      "metadata": {
        "id": "DUJb4kyEndzD"
      },
      "source": [
        "Contagem dos meteoros."
      ]
    },
    {
      "cell_type": "code",
      "metadata": {
        "colab": {
          "base_uri": "https://localhost:8080/"
        },
        "id": "szqijnqDGQXi",
        "outputId": "ccbfda0e-8d0e-49fd-9734-3b2dcd5fa110"
      },
      "source": [
        "len(blobs2)\n"
      ],
      "execution_count": null,
      "outputs": [
        {
          "output_type": "execute_result",
          "data": {
            "text/plain": [
              "322"
            ]
          },
          "metadata": {
            "tags": []
          },
          "execution_count": 43
        }
      ]
    },
    {
      "cell_type": "markdown",
      "metadata": {
        "id": "pkfMoko4oY8m"
      },
      "source": [
        "*Objetivo 3*: Meteoros que caem na água\n"
      ]
    },
    {
      "cell_type": "markdown",
      "metadata": {
        "id": "nk9NrlUvoxRt"
      },
      "source": [
        "Aqui será criada a máscara com a água, que será segmentados a partir da cor azul (0,0,255)."
      ]
    },
    {
      "cell_type": "code",
      "metadata": {
        "colab": {
          "base_uri": "https://localhost:8080/",
          "height": 721
        },
        "id": "ex5cJq-9oXWj",
        "outputId": "d07d127d-134c-4da0-f7b0-3bc183c3bf8e"
      },
      "source": [
        "lowerblue = np.array([0,0,255])#valor mínimo\n",
        "upperblue = np.array([0,0,255])#valor máximo\n",
        "\n",
        "#Máscara criada de acordo com a cor escolhida\n",
        "mask3 = cv2.inRange(img, lowerblue, upperblue)\n",
        "\n",
        "#Saída com a máscara criada\n",
        "cv2_imshow(mask3)"
      ],
      "execution_count": null,
      "outputs": [
        {
          "output_type": "display_data",
          "data": {
            "image/png": "[encoded data removed]",
            "text/plain": [
              "<PIL.Image.Image image mode=L size=704x704 at 0x7FD9952120D0>"
            ]
          },
          "metadata": {
            "tags": []
          }
        }
      ]
    },
    {
      "cell_type": "markdown",
      "metadata": {
        "id": "wXtiSTfapwpk"
      },
      "source": [
        "Como o encontro entre o meteoro e a água está na vertical, o que eles têm em comum é a coordenada x."
      ]
    },
    {
      "cell_type": "markdown",
      "metadata": {
        "id": "EBXh2PL3rED5"
      },
      "source": [
        "Encontrar as coordenadas x da água"
      ]
    },
    {
      "cell_type": "code",
      "metadata": {
        "id": "d1v_bfhIpVzu"
      },
      "source": [
        "b={} #Dicionário criado para guardar as coordenadas x da água\n",
        "\n",
        "#Loop para encontrar e guardar as coordenadas\n",
        "idx = 0\n",
        "for x in mask:\n",
        "  for idx, y in np.ndenumerate(x):\n",
        "    if (y > 0):\n",
        "      b[idx] = '1'"
      ],
      "execution_count": null,
      "outputs": []
    },
    {
      "cell_type": "markdown",
      "metadata": {
        "id": "AJXYH4nAq9tS"
      },
      "source": [
        "Encontrar as coordenadas x dos meteoros"
      ]
    },
    {
      "cell_type": "code",
      "metadata": {
        "id": "ygjsOChmrLJV"
      },
      "source": [
        "r={} #Dicionário criado para guardar as coordenadas x dos meteoros\n",
        "\n",
        "#Loop para encontrar e guardar as coordenadas, utilizando o próprio Loop de marcação.\n",
        "for blob in blobs2:\n",
        "    y, x, area = blob\n",
        "    ax.add_patch(plt.Circle((x, y), area*np.sqrt(2), color='r', fill=False))\n",
        "    r[x] = '1'"
      ],
      "execution_count": null,
      "outputs": []
    },
    {
      "cell_type": "markdown",
      "metadata": {
        "id": "r6aFThnyqB1o"
      },
      "source": [
        "Então para cada coordenada x da água que é igual a coordenada x do meteoro, teremos o resultado da quantidade de meteoros que caírão na água."
      ]
    },
    {
      "cell_type": "code",
      "metadata": {
        "colab": {
          "base_uri": "https://localhost:8080/"
        },
        "id": "me5DU04OVHja",
        "outputId": "8f773fbd-3645-4f45-f882-0a7bc610942b"
      },
      "source": [
        " #A contagem começa em 0\n",
        "hit = 0\n",
        "#Loop que fará a associação e contagem\n",
        "for x in b.keys():\n",
        "  for x2 in r.keys():\n",
        "    if (x == x2):\n",
        "      hit +=1\n",
        "print (hit) #Quantidade de meteoros que caírão na água.\n"
      ],
      "execution_count": null,
      "outputs": [
        {
          "output_type": "stream",
          "text": [
            "201\n"
          ],
          "name": "stdout"
        }
      ]
    }
  ]
}